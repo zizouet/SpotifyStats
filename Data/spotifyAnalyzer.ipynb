{
 "cells": [
  {
   "cell_type": "code",
   "execution_count": 14,
   "id": "54ffa2fd",
   "metadata": {
    "scrolled": false
   },
   "outputs": [],
   "source": [
    "import json\n",
    "import findspark\n",
    "import pandas as pd\n",
    "import numpy as np\n",
    "from enum import Enum\n",
    "findspark.init()\n",
    "\n",
    "\n",
    "import pyspark # only run after findspark.init()\n",
    "from pyspark.sql import SparkSession\n",
    "spark = SparkSession.builder.getOrCreate()\n",
    "\n",
    "\n",
    "\n",
    "#choose path to your file\n",
    "files = ['Lina/0.json','Lina/1.json','Lina/2.json','Lina/3.json']\n",
    "\n",
    "df = spark.read.option(\"multiLine\", True).json(files)\n",
    "df = df.toPandas()\n"
   ]
  },
  {
   "cell_type": "code",
   "execution_count": null,
   "id": "7006780c",
   "metadata": {
    "scrolled": true
   },
   "outputs": [],
   "source": [
    "\n",
    "    "
   ]
  },
  {
   "cell_type": "code",
   "execution_count": 4,
   "id": "226c932d",
   "metadata": {},
   "outputs": [
    {
     "ename": "NameError",
     "evalue": "name 'df' is not defined",
     "output_type": "error",
     "traceback": [
      "\u001b[0;31m---------------------------------------------------------------------------\u001b[0m",
      "\u001b[0;31mNameError\u001b[0m                                 Traceback (most recent call last)",
      "Input \u001b[0;32mIn [4]\u001b[0m, in \u001b[0;36m<cell line: 1>\u001b[0;34m()\u001b[0m\n\u001b[0;32m----> 1\u001b[0m dfForAllTimeArtist \u001b[38;5;241m=\u001b[39m \u001b[43mdf\u001b[49m\u001b[38;5;241m.\u001b[39mcopy(deep\u001b[38;5;241m=\u001b[39m\u001b[38;5;28;01mTrue\u001b[39;00m)\n\u001b[1;32m      2\u001b[0m dfForAllTimeArtist[\u001b[38;5;124m'\u001b[39m\u001b[38;5;124mtime_listened_by_artist\u001b[39m\u001b[38;5;124m'\u001b[39m] \u001b[38;5;241m=\u001b[39m dfForAllTimeArtist\u001b[38;5;241m.\u001b[39mgroupby(artistName)[TimePlayed]\u001b[38;5;241m.\u001b[39mtransform(\u001b[38;5;124m'\u001b[39m\u001b[38;5;124msum\u001b[39m\u001b[38;5;124m'\u001b[39m)\u001b[38;5;241m/\u001b[39m\u001b[38;5;241m1000\u001b[39m\u001b[38;5;241m/\u001b[39m\u001b[38;5;241m60\u001b[39m\u001b[38;5;241m/\u001b[39m\u001b[38;5;241m60\u001b[39m\n\u001b[1;32m      3\u001b[0m dfForAllTimeArtist \u001b[38;5;241m=\u001b[39m dfForAllTimeArtist\u001b[38;5;241m.\u001b[39mdrop(columns \u001b[38;5;241m=\u001b[39m [trackName,TimePlayed,\u001b[38;5;124m'\u001b[39m\u001b[38;5;124mmaster_metadata_album_album_name\u001b[39m\u001b[38;5;124m'\u001b[39m])\n",
      "\u001b[0;31mNameError\u001b[0m: name 'df' is not defined"
     ]
    }
   ],
   "source": [
    "dfForAllTimeArtist = df.copy(deep=True)\n",
    "dfForAllTimeArtist['time_listened_by_artist'] = dfForAllTimeArtist.groupby(artistName)[TimePlayed].transform('sum')/1000/60/60\n",
    "dfForAllTimeArtist = dfForAllTimeArtist.drop(columns = [trackName,TimePlayed,'master_metadata_album_album_name'])\n",
    "dfForAllTimeArtist = dfForAllTimeArtist.drop_duplicates(artistName)\n",
    "dfForAllTimeArtist.sort_values('time_listened_by_artist', inplace=True, ascending=False)\n",
    "display(dfForAllTimeArtist)\n",
    "dfForAllTimeArtist.to_csv('sortbyTimeForArtist.csv')"
   ]
  },
  {
   "cell_type": "code",
   "execution_count": 15,
   "id": "ad2f5c44",
   "metadata": {
    "scrolled": true
   },
   "outputs": [],
   "source": [
    "hours_listened_in_day = np.zeros(24)"
   ]
  },
  {
   "cell_type": "code",
   "execution_count": 16,
   "id": "382f09e1",
   "metadata": {},
   "outputs": [
    {
     "name": "stdout",
     "output_type": "stream",
     "text": [
      "980.598531111111\n"
     ]
    }
   ],
   "source": [
    "total= 0\n",
    "for index, row in df.iterrows():\n",
    "    time = int(row['ts'][11:13])\n",
    "    timee = int(row['ms_played'])\n",
    "    hours_listened_in_day[time]+= timee\n",
    "    total+=timee\n",
    "\n",
    "hours_listened_in_day = hours_listened_in_day / 1000 /60 / 60\n",
    "print(total/ 1000 /60 / 60)"
   ]
  },
  {
   "cell_type": "code",
   "execution_count": 17,
   "id": "3529983b",
   "metadata": {},
   "outputs": [
    {
     "data": {
      "image/png": "[encoded data removed]",
      "text/plain": [
       "<Figure size 640x480 with 1 Axes>"
      ]
     },
     "metadata": {},
     "output_type": "display_data"
    }
   ],
   "source": [
    "import matplotlib.pyplot as plt\n",
    "   \n",
    "heures = np.arange(24)\n",
    "\n",
    "plt.bar(heures, hours_listened_in_day)\n",
    "plt.xlabel('Heures de la journée')\n",
    "plt.ylabel('Valeurs')\n",
    "plt.title('Graphe des valeurs en fonction des heures de la journée')\n",
    "plt.grid(True)\n",
    "plt.show()"
   ]
  },
  {
   "cell_type": "code",
   "execution_count": 2,
   "id": "97110ca2",
   "metadata": {},
   "outputs": [],
   "source": []
  },
  {
   "cell_type": "code",
   "execution_count": 5,
   "id": "c80b6fb4",
   "metadata": {},
   "outputs": [
    {
     "ename": "SyntaxError",
     "evalue": "invalid syntax (3217037510.py, line 14)",
     "output_type": "error",
     "traceback": [
      "\u001b[0;36m  Input \u001b[0;32mIn [5]\u001b[0;36m\u001b[0m\n\u001b[0;31m    SPOTIFYUSEFULL =\u001b[0m\n\u001b[0m                     ^\u001b[0m\n\u001b[0;31mSyntaxError\u001b[0m\u001b[0;31m:\u001b[0m invalid syntax\n"
     ]
    }
   ],
   "source": [
    "import json\n",
    "import findspark\n",
    "import pandas as pd\n",
    "import numpy as np\n",
    "from enum import Enum\n",
    "findspark.init()\n",
    "\n",
    "\n",
    "import pyspark # only run after findspark.init()\n",
    "from pyspark.sql import SparkSession\n",
    "spark = SparkSession.builder.getOrCreate()\n",
    "\n",
    "SPOTIFYFULL = ['ms_played','master_metadata_track_name','master_metadata_track_name','ts',\"conn_country\",\"episode_name\",'episode_show_name','offline_timestamp','incognito_mode','ip_addr_decrypted','offline','platform','reason_end','reason_start','shuffle','skipped','spotify_episode_uri','spotify_track_uri','user_agent_decrypted','username']\n",
    "SPOTIFYSHORT = [\"msPlayed\",\"artistName\",\"trackName\",\"endTime\"]\n",
    "YTMUSIC = ['titleUrl', 'title','time','header','products','subtitles','activityControls']\n",
    "\n",
    "YTM = \"YTMUSIC\"\n",
    "SPOF = \"SPOTIFYFULL\"\n",
    "SPOS = \"SPOTIFYSHORT\"\n",
    "\n",
    "class PlatformSpecs(Enum):\n",
    "    SPOTIFYFULL = 1\n",
    "    SPOTIFYSHORT = 2\n",
    "    YTMUSIC = 3\n",
    "\n",
    "#choose path to your file\n",
    "files = ['Cycy/0.json']\n",
    "\n",
    "#read file.json and put it to pandas dataframe\n",
    "df = spark.read.option(\"multiLine\", True).json(files)\n",
    "df = df.toPandas()\n",
    "\n",
    "class Platform:\n",
    "    \n",
    "    def __init__(self, platform):\n",
    "        self.platform = platform\n",
    "        self.useFullCols=[]\n",
    "        self.cols=[]\n",
    "\n",
    "    def topTracksByTime(self):\n",
    "        raise NotImplementedError(\"common_function() must be implemented in the derived class.\")\n",
    "        \n",
    "\n",
    "\n",
    "class SpotifyFull(Platform):\n",
    "    \n",
    "    def __init__(self, additional_variable):\n",
    "        self.useFullCols = ['ms_played','master_metadata_track_name','master_metadata_track_name','ts']\n",
    "        self.cols = SPOTIFYFULL\n",
    "        df = df[self.usefullCols]\n",
    "        self.dfForAllTimeSongs = df.copy(deep=True)\n",
    "        \n",
    "    def topTracks(self):\n",
    "        self.dfForAllTimeSongs['frequency'] = dfForAllTimeSongs.groupby(trackName)[trackName].transform('count')\n",
    "        self.dfForAllTimeSongs['time_listened'] = dfForAllTimeSongs.groupby(trackName)[timePlayed].transform('sum')/1000/60/60\n",
    "        self.dfForAllTimeSongs = dfForAllTimeSongs.drop_duplicates(trackName)\n",
    "        self.dfForAllTimeSongs['time_listened'] = self.dfForAllTimeSongs['time_listened']/1000/60/60\n",
    "        self.dfForAllTimeSongs.sort_values('time_listened', inplace = True, ascending = False)\n",
    "        display(dfForAllTimeSongs)\n",
    "        self.dfForAllTimeSongs.to_csv('sortbyTimeForEachTrack.csv')\n",
    "        \n",
    "class SpotifyShort(SpotifyFull):\n",
    "    \n",
    "    def __init__(self):\n",
    "        self.useFullCols = [\"msPlayed\",\"trackName\",\"artistName\"]\n",
    "        self.cols = SPOTIFYSHORT\n",
    "        \n",
    "    def topTracks(self):\n",
    "    \n",
    "\n",
    "class YtMusic(Platform):\n",
    "    \n",
    "    def __init__(self, platform, additional_variable):\n",
    "        super().__init__(platform)\n",
    "        \n",
    "        if (isinstance(platform, Platform) and platform.name == YTM):\n",
    "            self.useFullCols = \n",
    "            self.cols = \n",
    "        else raise CustomException(\"Wrong Platform\")\n",
    "\n",
    "    def topTracks(self):\n",
    "    \n",
    "\n",
    "\n",
    "# Create platform instance\n",
    "platform_a = PlatformA(\"Value 1 for Platform A\", \"Value 2 for Platform A\", \"Additional Value for Platform A\")\n",
    "\n",
    "# Call the common function on platform instance\n",
    "platform_a.common_function()\n",
    "\n",
    "\n",
    "\n",
    "\n",
    "\n",
    "\n",
    "\n",
    "\n",
    "\n",
    "\n",
    "\n",
    "def topTracks(platform):\n",
    "    usefullCols = []\n",
    "    trackName = \"\"\n",
    "    timePlayed = \"\"\n",
    "\n",
    "    if (isinstance(platform, Platform)):\n",
    "        if (platform.name == SPOF):\n",
    "        \n",
    "            timePlayed = usefullCols[0]\n",
    "            trackName = usefullCols[1]\n",
    "            df[timePlayed] = pd.to_numeric(df[timePlayed], errors='coerce').astype('Int64').fillna(0)\n",
    "        else if (platform.name == SPOS):\n",
    "            usefullCols = [\"msPlayed\",\"trackName\",\"artistName\"]\n",
    "            timePlayed = usefullCols[0]\n",
    "            trackName = usefullCols[1]\n",
    "            df[timePlayed] = pd.to_numeric(df[timePlayed], errors='coerce').astype('Int64').fillna(0)\n",
    "        else if (platform.name == YTM):\n",
    "            usefullCols = ['titleUrl', 'title','time']\n",
    "            trackName = usefullCols[0]\n",
    "        else:\n",
    "            raise CustomException(\"Monvier essaye de mettre des bonnes data\")\n",
    "    else:\n",
    "        raise CustomException(\"Monvier essaye de mettre des bonnes data\")      \n",
    "\n",
    "        \n",
    "        \n",
    "        \n",
    "\n"
   ]
  },
  {
   "cell_type": "code",
   "execution_count": null,
   "id": "5de9c41f",
   "metadata": {},
   "outputs": [],
   "source": []
  }
 ],
 "metadata": {
  "kernelspec": {
   "display_name": "Python 3 (ipykernel)",
   "language": "python",
   "name": "python3"
  },
  "language_info": {
   "codemirror_mode": {
    "name": "ipython",
    "version": 3
   },
   "file_extension": ".py",
   "mimetype": "text/x-python",
   "name": "python",
   "nbconvert_exporter": "python",
   "pygments_lexer": "ipython3",
   "version": "3.9.12"
  }
 },
 "nbformat": 4,
 "nbformat_minor": 5
}
